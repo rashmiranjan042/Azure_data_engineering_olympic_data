{
 "cells": [
  {
   "cell_type": "code",
   "execution_count": 0,
   "metadata": {
    "application/vnd.databricks.v1+cell": {
     "cellMetadata": {
      "byteLimit": 2048000,
      "rowLimit": 10000
     },
     "inputWidgets": {},
     "nuid": "daa5663e-b345-43cc-837d-f7a78d41ea26",
     "showTitle": false,
     "title": ""
    }
   },
   "outputs": [
    {
     "output_type": "display_data",
     "data": {
      "text/html": [
       "\n",
       "            <div>\n",
       "                <p><b>SparkSession - hive</b></p>\n",
       "                \n",
       "        <div>\n",
       "            <p><b>SparkContext</b></p>\n",
       "\n",
       "            <p><a href=\"/?o=3112806839942388#setting/sparkui/0913-144855-51rbt071/driver-3572352143784330844\">Spark UI</a></p>\n",
       "\n",
       "            <dl>\n",
       "              <dt>Version</dt>\n",
       "                <dd><code>v3.3.2</code></dd>\n",
       "              <dt>Master</dt>\n",
       "                <dd><code>local[8]</code></dd>\n",
       "              <dt>AppName</dt>\n",
       "                <dd><code>Databricks Shell</code></dd>\n",
       "            </dl>\n",
       "        </div>\n",
       "        \n",
       "            </div>\n",
       "        "
      ]
     },
     "metadata": {
      "application/vnd.databricks.v1+output": {
       "addedWidgets": {},
       "arguments": {},
       "data": "\n            <div>\n                <p><b>SparkSession - hive</b></p>\n                \n        <div>\n            <p><b>SparkContext</b></p>\n\n            <p><a href=\"/?o=3112806839942388#setting/sparkui/0913-144855-51rbt071/driver-3572352143784330844\">Spark UI</a></p>\n\n            <dl>\n              <dt>Version</dt>\n                <dd><code>v3.3.2</code></dd>\n              <dt>Master</dt>\n                <dd><code>local[8]</code></dd>\n              <dt>AppName</dt>\n                <dd><code>Databricks Shell</code></dd>\n            </dl>\n        </div>\n        \n            </div>\n        ",
       "datasetInfos": [],
       "metadata": {},
       "removedWidgets": [],
       "textData": null,
       "type": "htmlSandbox"
      }
     },
     "output_type": "display_data"
    }
   ],
   "source": [
    "spark"
   ]
  },
  {
   "cell_type": "code",
   "execution_count": 0,
   "metadata": {
    "application/vnd.databricks.v1+cell": {
     "cellMetadata": {
      "byteLimit": 2048000,
      "rowLimit": 10000
     },
     "inputWidgets": {},
     "nuid": "efefb9eb-6a55-44cb-b2ea-7e5a24c3c667",
     "showTitle": false,
     "title": ""
    }
   },
   "outputs": [
    {
     "output_type": "stream",
     "name": "stdout",
     "output_type": "stream",
     "text": [
      "Out[2]: <module 'pyspark.pandas' from '/databricks/spark/python/pyspark/pandas/__init__.py'>"
     ]
    }
   ],
   "source": [
    "import pyspark.pandas as pd\n",
    "pd"
   ]
  },
  {
   "cell_type": "code",
   "execution_count": 0,
   "metadata": {
    "application/vnd.databricks.v1+cell": {
     "cellMetadata": {
      "byteLimit": 2048000,
      "rowLimit": 10000
     },
     "inputWidgets": {},
     "nuid": "feddbed2-3ce0-4d21-bcdc-4d9676d1adfe",
     "showTitle": false,
     "title": ""
    }
   },
   "outputs": [
    {
     "output_type": "display_data",
     "data": {
      "text/html": [
       "\n",
       "            <div>\n",
       "                <p><b>SparkSession - hive</b></p>\n",
       "                \n",
       "        <div>\n",
       "            <p><b>SparkContext</b></p>\n",
       "\n",
       "            <p><a href=\"/?o=3112806839942388#setting/sparkui/0913-144855-51rbt071/driver-3572352143784330844\">Spark UI</a></p>\n",
       "\n",
       "            <dl>\n",
       "              <dt>Version</dt>\n",
       "                <dd><code>v3.3.2</code></dd>\n",
       "              <dt>Master</dt>\n",
       "                <dd><code>local[8]</code></dd>\n",
       "              <dt>AppName</dt>\n",
       "                <dd><code>Databricks Shell</code></dd>\n",
       "            </dl>\n",
       "        </div>\n",
       "        \n",
       "            </div>\n",
       "        "
      ]
     },
     "metadata": {
      "application/vnd.databricks.v1+output": {
       "addedWidgets": {},
       "arguments": {},
       "data": "\n            <div>\n                <p><b>SparkSession - hive</b></p>\n                \n        <div>\n            <p><b>SparkContext</b></p>\n\n            <p><a href=\"/?o=3112806839942388#setting/sparkui/0913-144855-51rbt071/driver-3572352143784330844\">Spark UI</a></p>\n\n            <dl>\n              <dt>Version</dt>\n                <dd><code>v3.3.2</code></dd>\n              <dt>Master</dt>\n                <dd><code>local[8]</code></dd>\n              <dt>AppName</dt>\n                <dd><code>Databricks Shell</code></dd>\n            </dl>\n        </div>\n        \n            </div>\n        ",
       "datasetInfos": [],
       "metadata": {},
       "removedWidgets": [],
       "textData": null,
       "type": "htmlSandbox"
      }
     },
     "output_type": "display_data"
    }
   ],
   "source": [
    "spark"
   ]
  },
  {
   "cell_type": "code",
   "execution_count": 0,
   "metadata": {
    "application/vnd.databricks.v1+cell": {
     "cellMetadata": {
      "byteLimit": 2048000,
      "rowLimit": 10000
     },
     "inputWidgets": {},
     "nuid": "69da371d-4f3c-4e31-b0bb-f450fa841203",
     "showTitle": false,
     "title": ""
    }
   },
   "outputs": [
    {
     "output_type": "display_data",
     "data": {
      "text/html": [
       "<div>\n",
       "<style scoped>\n",
       "    .dataframe tbody tr th:only-of-type {\n",
       "        vertical-align: middle;\n",
       "    }\n",
       "\n",
       "    .dataframe tbody tr th {\n",
       "        vertical-align: top;\n",
       "    }\n",
       "\n",
       "    .dataframe thead th {\n",
       "        text-align: right;\n",
       "    }\n",
       "</style>\n",
       "<table border=\"1\" class=\"dataframe\">\n",
       "  <thead>\n",
       "    <tr style=\"text-align: right;\">\n",
       "      <th></th>\n",
       "      <th>Name</th>\n",
       "      <th>NOC</th>\n",
       "      <th>Discipline</th>\n",
       "    </tr>\n",
       "  </thead>\n",
       "  <tbody>\n",
       "    <tr>\n",
       "      <th>0</th>\n",
       "      <td>AALERUD Katrine</td>\n",
       "      <td>Norway</td>\n",
       "      <td>Cycling Road</td>\n",
       "    </tr>\n",
       "    <tr>\n",
       "      <th>1</th>\n",
       "      <td>ABAD Nestor</td>\n",
       "      <td>Spain</td>\n",
       "      <td>Artistic Gymnastics</td>\n",
       "    </tr>\n",
       "    <tr>\n",
       "      <th>2</th>\n",
       "      <td>ABAGNALE Giovanni</td>\n",
       "      <td>Italy</td>\n",
       "      <td>Rowing</td>\n",
       "    </tr>\n",
       "    <tr>\n",
       "      <th>3</th>\n",
       "      <td>ABALDE Alberto</td>\n",
       "      <td>Spain</td>\n",
       "      <td>Basketball</td>\n",
       "    </tr>\n",
       "    <tr>\n",
       "      <th>4</th>\n",
       "      <td>ABALDE Tamara</td>\n",
       "      <td>Spain</td>\n",
       "      <td>Basketball</td>\n",
       "    </tr>\n",
       "    <tr>\n",
       "      <th>5</th>\n",
       "      <td>ABALO Luc</td>\n",
       "      <td>France</td>\n",
       "      <td>Handball</td>\n",
       "    </tr>\n",
       "    <tr>\n",
       "      <th>6</th>\n",
       "      <td>ABAROA Cesar</td>\n",
       "      <td>Chile</td>\n",
       "      <td>Rowing</td>\n",
       "    </tr>\n",
       "    <tr>\n",
       "      <th>7</th>\n",
       "      <td>ABASS Abobakr</td>\n",
       "      <td>Sudan</td>\n",
       "      <td>Swimming</td>\n",
       "    </tr>\n",
       "    <tr>\n",
       "      <th>8</th>\n",
       "      <td>ABBASALI Hamideh</td>\n",
       "      <td>Islamic Republic of Iran</td>\n",
       "      <td>Karate</td>\n",
       "    </tr>\n",
       "    <tr>\n",
       "      <th>9</th>\n",
       "      <td>ABBASOV Islam</td>\n",
       "      <td>Azerbaijan</td>\n",
       "      <td>Wrestling</td>\n",
       "    </tr>\n",
       "    <tr>\n",
       "      <th>10</th>\n",
       "      <td>ABBINGH Lois</td>\n",
       "      <td>Netherlands</td>\n",
       "      <td>Handball</td>\n",
       "    </tr>\n",
       "    <tr>\n",
       "      <th>11</th>\n",
       "      <td>ABBOT Emily</td>\n",
       "      <td>Australia</td>\n",
       "      <td>Rhythmic Gymnastics</td>\n",
       "    </tr>\n",
       "    <tr>\n",
       "      <th>12</th>\n",
       "      <td>ABBOTT Monica</td>\n",
       "      <td>United States of America</td>\n",
       "      <td>Baseball/Softball</td>\n",
       "    </tr>\n",
       "    <tr>\n",
       "      <th>13</th>\n",
       "      <td>ABDALLA Abubaker Haydar</td>\n",
       "      <td>Qatar</td>\n",
       "      <td>Athletics</td>\n",
       "    </tr>\n",
       "    <tr>\n",
       "      <th>14</th>\n",
       "      <td>ABDALLA Maryam</td>\n",
       "      <td>Egypt</td>\n",
       "      <td>Artistic Swimming</td>\n",
       "    </tr>\n",
       "    <tr>\n",
       "      <th>15</th>\n",
       "      <td>ABDALLAH Shahd</td>\n",
       "      <td>Egypt</td>\n",
       "      <td>Artistic Swimming</td>\n",
       "    </tr>\n",
       "    <tr>\n",
       "      <th>16</th>\n",
       "      <td>ABDALRASOOL Mohamed</td>\n",
       "      <td>Sudan</td>\n",
       "      <td>Judo</td>\n",
       "    </tr>\n",
       "    <tr>\n",
       "      <th>17</th>\n",
       "      <td>ABDEL LATIF Radwa</td>\n",
       "      <td>Egypt</td>\n",
       "      <td>Shooting</td>\n",
       "    </tr>\n",
       "    <tr>\n",
       "      <th>18</th>\n",
       "      <td>ABDEL RAZEK Samy</td>\n",
       "      <td>Egypt</td>\n",
       "      <td>Shooting</td>\n",
       "    </tr>\n",
       "    <tr>\n",
       "      <th>19</th>\n",
       "      <td>ABDELAZIZ Abdalla</td>\n",
       "      <td>Egypt</td>\n",
       "      <td>Karate</td>\n",
       "    </tr>\n",
       "    <tr>\n",
       "      <th>20</th>\n",
       "      <td>ABDELAZIZ Farah</td>\n",
       "      <td>Egypt</td>\n",
       "      <td>Table Tennis</td>\n",
       "    </tr>\n",
       "    <tr>\n",
       "      <th>21</th>\n",
       "      <td>ABDELAZIZ Feryal</td>\n",
       "      <td>Egypt</td>\n",
       "      <td>Karate</td>\n",
       "    </tr>\n",
       "    <tr>\n",
       "      <th>22</th>\n",
       "      <td>ABDELMAWGOUD Mohamed</td>\n",
       "      <td>Egypt</td>\n",
       "      <td>Judo</td>\n",
       "    </tr>\n",
       "    <tr>\n",
       "      <th>23</th>\n",
       "      <td>ABDELMOTTALEB Diaaeldin Kamal Gouda</td>\n",
       "      <td>Egypt</td>\n",
       "      <td>Wrestling</td>\n",
       "    </tr>\n",
       "    <tr>\n",
       "      <th>24</th>\n",
       "      <td>ABDELRAHMAN Ihab</td>\n",
       "      <td>Egypt</td>\n",
       "      <td>Athletics</td>\n",
       "    </tr>\n",
       "    <tr>\n",
       "      <th>25</th>\n",
       "      <td>ABDELSALAM Mohamed</td>\n",
       "      <td>Egypt</td>\n",
       "      <td>Football</td>\n",
       "    </tr>\n",
       "    <tr>\n",
       "      <th>26</th>\n",
       "      <td>ABDELSALAM Nour</td>\n",
       "      <td>Egypt</td>\n",
       "      <td>Taekwondo</td>\n",
       "    </tr>\n",
       "    <tr>\n",
       "      <th>27</th>\n",
       "      <td>ABDELWAHED Ahmed</td>\n",
       "      <td>Italy</td>\n",
       "      <td>Athletics</td>\n",
       "    </tr>\n",
       "    <tr>\n",
       "      <th>28</th>\n",
       "      <td>ABDI Bashir</td>\n",
       "      <td>Belgium</td>\n",
       "      <td>Athletics</td>\n",
       "    </tr>\n",
       "    <tr>\n",
       "      <th>29</th>\n",
       "      <td>ABDIRAHMAN Abdi</td>\n",
       "      <td>United States of America</td>\n",
       "      <td>Athletics</td>\n",
       "    </tr>\n",
       "    <tr>\n",
       "      <th>30</th>\n",
       "      <td>ABDUL HADI Farah Ann</td>\n",
       "      <td>Malaysia</td>\n",
       "      <td>Artistic Gymnastics</td>\n",
       "    </tr>\n",
       "    <tr>\n",
       "      <th>31</th>\n",
       "      <td>ABDUL RAHMAN Kiria Tikanah</td>\n",
       "      <td>Singapore</td>\n",
       "      <td>Fencing</td>\n",
       "    </tr>\n",
       "    <tr>\n",
       "      <th>32</th>\n",
       "      <td>ABDUL RAZZAQ Fathimath Nabaaha</td>\n",
       "      <td>Maldives</td>\n",
       "      <td>Badminton</td>\n",
       "    </tr>\n",
       "    <tr>\n",
       "      <th>33</th>\n",
       "      <td>ABDULHAMID Saud</td>\n",
       "      <td>Saudi Arabia</td>\n",
       "      <td>Football</td>\n",
       "    </tr>\n",
       "    <tr>\n",
       "      <th>34</th>\n",
       "      <td>ABDULJABBAR Ammar Riad</td>\n",
       "      <td>Germany</td>\n",
       "      <td>Boxing</td>\n",
       "    </tr>\n",
       "    <tr>\n",
       "      <th>35</th>\n",
       "      <td>ABDULLAEV Gulomjon</td>\n",
       "      <td>Uzbekistan</td>\n",
       "      <td>Wrestling</td>\n",
       "    </tr>\n",
       "    <tr>\n",
       "      <th>36</th>\n",
       "      <td>ABDULLAEV Muminjon</td>\n",
       "      <td>Uzbekistan</td>\n",
       "      <td>Wrestling</td>\n",
       "    </tr>\n",
       "    <tr>\n",
       "      <th>37</th>\n",
       "      <td>ABDULLAH Rahmat Erwin</td>\n",
       "      <td>Indonesia</td>\n",
       "      <td>Weightlifting</td>\n",
       "    </tr>\n",
       "    <tr>\n",
       "      <th>38</th>\n",
       "      <td>ABDULLIN Ilfat</td>\n",
       "      <td>Kazakhstan</td>\n",
       "      <td>Archery</td>\n",
       "    </tr>\n",
       "    <tr>\n",
       "      <th>39</th>\n",
       "      <td>ABDULREDHA Mohamed</td>\n",
       "      <td>Bahrain</td>\n",
       "      <td>Handball</td>\n",
       "    </tr>\n",
       "    <tr>\n",
       "      <th>40</th>\n",
       "      <td>ABDURAIMOV Elnur</td>\n",
       "      <td>Uzbekistan</td>\n",
       "      <td>Boxing</td>\n",
       "    </tr>\n",
       "    <tr>\n",
       "      <th>41</th>\n",
       "      <td>ABDURAKHIMOV Rasuljon</td>\n",
       "      <td>Uzbekistan</td>\n",
       "      <td>Artistic Gymnastics</td>\n",
       "    </tr>\n",
       "    <tr>\n",
       "      <th>42</th>\n",
       "      <td>ABDURAKHMONOV Bekzod</td>\n",
       "      <td>Uzbekistan</td>\n",
       "      <td>Wrestling</td>\n",
       "    </tr>\n",
       "    <tr>\n",
       "      <th>43</th>\n",
       "      <td>ABE Hifumi</td>\n",
       "      <td>Japan</td>\n",
       "      <td>Judo</td>\n",
       "    </tr>\n",
       "    <tr>\n",
       "      <th>44</th>\n",
       "      <td>ABE Takatoshi</td>\n",
       "      <td>Japan</td>\n",
       "      <td>Athletics</td>\n",
       "    </tr>\n",
       "    <tr>\n",
       "      <th>45</th>\n",
       "      <td>ABE Uta</td>\n",
       "      <td>Japan</td>\n",
       "      <td>Judo</td>\n",
       "    </tr>\n",
       "    <tr>\n",
       "      <th>46</th>\n",
       "      <td>ABEBE Mekides</td>\n",
       "      <td>Ethiopia</td>\n",
       "      <td>Athletics</td>\n",
       "    </tr>\n",
       "    <tr>\n",
       "      <th>47</th>\n",
       "      <td>ABEDINI Mojtaba</td>\n",
       "      <td>Islamic Republic of Iran</td>\n",
       "      <td>Fencing</td>\n",
       "    </tr>\n",
       "    <tr>\n",
       "      <th>48</th>\n",
       "      <td>ABEL Jennifer</td>\n",
       "      <td>Canada</td>\n",
       "      <td>Diving</td>\n",
       "    </tr>\n",
       "    <tr>\n",
       "      <th>49</th>\n",
       "      <td>ABELA Matthew</td>\n",
       "      <td>Malta</td>\n",
       "      <td>Badminton</td>\n",
       "    </tr>\n",
       "    <tr>\n",
       "      <th>50</th>\n",
       "      <td>ABELVIK ROED Magnus</td>\n",
       "      <td>Norway</td>\n",
       "      <td>Handball</td>\n",
       "    </tr>\n",
       "    <tr>\n",
       "      <th>51</th>\n",
       "      <td>ABEYSINGHE Matthew</td>\n",
       "      <td>Sri Lanka</td>\n",
       "      <td>Swimming</td>\n",
       "    </tr>\n",
       "    <tr>\n",
       "      <th>52</th>\n",
       "      <td>ABIAN Pablo</td>\n",
       "      <td>Spain</td>\n",
       "      <td>Badminton</td>\n",
       "    </tr>\n",
       "    <tr>\n",
       "      <th>53</th>\n",
       "      <td>ABICHA Mohammed</td>\n",
       "      <td>Morocco</td>\n",
       "      <td>Beach Volleyball</td>\n",
       "    </tr>\n",
       "    <tr>\n",
       "      <th>54</th>\n",
       "      <td>ABICHT Lorena</td>\n",
       "      <td>Austria</td>\n",
       "      <td>Sailing</td>\n",
       "    </tr>\n",
       "    <tr>\n",
       "      <th>55</th>\n",
       "      <td>ABIDINE Abidine</td>\n",
       "      <td>Mauritania</td>\n",
       "      <td>Athletics</td>\n",
       "    </tr>\n",
       "    <tr>\n",
       "      <th>56</th>\n",
       "      <td>ABLIAZIN Denis</td>\n",
       "      <td>ROC</td>\n",
       "      <td>Artistic Gymnastics</td>\n",
       "    </tr>\n",
       "    <tr>\n",
       "      <th>57</th>\n",
       "      <td>ABOUD Hadel</td>\n",
       "      <td>Libya</td>\n",
       "      <td>Athletics</td>\n",
       "    </tr>\n",
       "    <tr>\n",
       "      <th>58</th>\n",
       "      <td>ABOUELKASSEM Alaaeldin</td>\n",
       "      <td>Egypt</td>\n",
       "      <td>Fencing</td>\n",
       "    </tr>\n",
       "    <tr>\n",
       "      <th>59</th>\n",
       "      <td>ABOUKE Nancy Genzel</td>\n",
       "      <td>Nauru</td>\n",
       "      <td>Weightlifting</td>\n",
       "    </tr>\n",
       "    <tr>\n",
       "      <th>60</th>\n",
       "      <td>ABRAHAM Tadesse</td>\n",
       "      <td>Switzerland</td>\n",
       "      <td>Athletics</td>\n",
       "    </tr>\n",
       "    <tr>\n",
       "      <th>61</th>\n",
       "      <td>ABRAHAMS Rusten John</td>\n",
       "      <td>South Africa</td>\n",
       "      <td>Hockey</td>\n",
       "    </tr>\n",
       "    <tr>\n",
       "      <th>62</th>\n",
       "      <td>ABRAMS Aliyah</td>\n",
       "      <td>Guyana</td>\n",
       "      <td>Athletics</td>\n",
       "    </tr>\n",
       "    <tr>\n",
       "      <th>63</th>\n",
       "      <td>ABRAMS Jasmine</td>\n",
       "      <td>Guyana</td>\n",
       "      <td>Athletics</td>\n",
       "    </tr>\n",
       "    <tr>\n",
       "      <th>64</th>\n",
       "      <td>ABRAMYAN Benik</td>\n",
       "      <td>Georgia</td>\n",
       "      <td>Athletics</td>\n",
       "    </tr>\n",
       "    <tr>\n",
       "      <th>65</th>\n",
       "      <td>ABREU Diogo</td>\n",
       "      <td>Portugal</td>\n",
       "      <td>Trampoline Gymnastics</td>\n",
       "    </tr>\n",
       "    <tr>\n",
       "      <th>66</th>\n",
       "      <td>ABRINES REDONDO Alejandro</td>\n",
       "      <td>Spain</td>\n",
       "      <td>Basketball</td>\n",
       "    </tr>\n",
       "    <tr>\n",
       "      <th>67</th>\n",
       "      <td>ABROSIMOV Kirill</td>\n",
       "      <td>ROC</td>\n",
       "      <td>Marathon Swimming</td>\n",
       "    </tr>\n",
       "    <tr>\n",
       "      <th>68</th>\n",
       "      <td>ABU RABEE Asma</td>\n",
       "      <td>Jordan</td>\n",
       "      <td>Shooting</td>\n",
       "    </tr>\n",
       "    <tr>\n",
       "      <th>69</th>\n",
       "      <td>ABU RMILAH Wesam</td>\n",
       "      <td>Palestine</td>\n",
       "      <td>Judo</td>\n",
       "    </tr>\n",
       "    <tr>\n",
       "      <th>70</th>\n",
       "      <td>ABUAKU Joshua</td>\n",
       "      <td>Germany</td>\n",
       "      <td>Athletics</td>\n",
       "    </tr>\n",
       "    <tr>\n",
       "      <th>71</th>\n",
       "      <td>ABUJBARA Tala</td>\n",
       "      <td>Qatar</td>\n",
       "      <td>Rowing</td>\n",
       "    </tr>\n",
       "    <tr>\n",
       "      <th>72</th>\n",
       "      <td>ACERENZA Domenico</td>\n",
       "      <td>Italy</td>\n",
       "      <td>Swimming</td>\n",
       "    </tr>\n",
       "    <tr>\n",
       "      <th>73</th>\n",
       "      <td>ACETI Vladimir</td>\n",
       "      <td>Italy</td>\n",
       "      <td>Athletics</td>\n",
       "    </tr>\n",
       "    <tr>\n",
       "      <th>74</th>\n",
       "      <td>ACHAB Jaouad</td>\n",
       "      <td>Belgium</td>\n",
       "      <td>Taekwondo</td>\n",
       "    </tr>\n",
       "    <tr>\n",
       "      <th>75</th>\n",
       "      <td>ACHANTA Kamal</td>\n",
       "      <td>India</td>\n",
       "      <td>Table Tennis</td>\n",
       "    </tr>\n",
       "    <tr>\n",
       "      <th>76</th>\n",
       "      <td>ACHILLEOS Georgios</td>\n",
       "      <td>Cyprus</td>\n",
       "      <td>Shooting</td>\n",
       "    </tr>\n",
       "    <tr>\n",
       "      <th>77</th>\n",
       "      <td>ACHIUWA Precious</td>\n",
       "      <td>Nigeria</td>\n",
       "      <td>Basketball</td>\n",
       "    </tr>\n",
       "    <tr>\n",
       "      <th>78</th>\n",
       "      <td>ACHONWA Natalie</td>\n",
       "      <td>Canada</td>\n",
       "      <td>Basketball</td>\n",
       "    </tr>\n",
       "    <tr>\n",
       "      <th>79</th>\n",
       "      <td>ACHOURI Haikel</td>\n",
       "      <td>Tunisia</td>\n",
       "      <td>Wrestling</td>\n",
       "    </tr>\n",
       "    <tr>\n",
       "      <th>80</th>\n",
       "      <td>ACKERMANN Simone</td>\n",
       "      <td>South Africa</td>\n",
       "      <td>Triathlon</td>\n",
       "    </tr>\n",
       "    <tr>\n",
       "      <th>81</th>\n",
       "      <td>ACOSTA Briseida</td>\n",
       "      <td>Mexico</td>\n",
       "      <td>Taekwondo</td>\n",
       "    </tr>\n",
       "    <tr>\n",
       "      <th>82</th>\n",
       "      <td>ACOSTA FERNANDEZ Yasmani</td>\n",
       "      <td>Chile</td>\n",
       "      <td>Wrestling</td>\n",
       "    </tr>\n",
       "    <tr>\n",
       "      <th>83</th>\n",
       "      <td>ACOSTA GIRALDO Valentina</td>\n",
       "      <td>Colombia</td>\n",
       "      <td>Archery</td>\n",
       "    </tr>\n",
       "    <tr>\n",
       "      <th>84</th>\n",
       "      <td>ACOSTA Marcelo</td>\n",
       "      <td>El Salvador</td>\n",
       "      <td>Swimming</td>\n",
       "    </tr>\n",
       "    <tr>\n",
       "      <th>85</th>\n",
       "      <td>ACUNA Yenny</td>\n",
       "      <td>Chile</td>\n",
       "      <td>Football</td>\n",
       "    </tr>\n",
       "    <tr>\n",
       "      <th>86</th>\n",
       "      <td>ADACHI Kazuya</td>\n",
       "      <td>Japan</td>\n",
       "      <td>Canoe Slalom</td>\n",
       "    </tr>\n",
       "    <tr>\n",
       "      <th>87</th>\n",
       "      <td>ADACHI Seiya</td>\n",
       "      <td>Japan</td>\n",
       "      <td>Water Polo</td>\n",
       "    </tr>\n",
       "    <tr>\n",
       "      <th>88</th>\n",
       "      <td>ADAM Amal</td>\n",
       "      <td>Egypt</td>\n",
       "      <td>Archery</td>\n",
       "    </tr>\n",
       "    <tr>\n",
       "      <th>89</th>\n",
       "      <td>ADAM Constantin</td>\n",
       "      <td>Romania</td>\n",
       "      <td>Rowing</td>\n",
       "    </tr>\n",
       "    <tr>\n",
       "      <th>90</th>\n",
       "      <td>ADAMEK Klaudia</td>\n",
       "      <td>Poland</td>\n",
       "      <td>Athletics</td>\n",
       "    </tr>\n",
       "    <tr>\n",
       "      <th>91</th>\n",
       "      <td>ADAMKIEWICZ Patrycja</td>\n",
       "      <td>Poland</td>\n",
       "      <td>Taekwondo</td>\n",
       "    </tr>\n",
       "    <tr>\n",
       "      <th>92</th>\n",
       "      <td>ADAMS Liam</td>\n",
       "      <td>Australia</td>\n",
       "      <td>Athletics</td>\n",
       "    </tr>\n",
       "    <tr>\n",
       "      <th>93</th>\n",
       "      <td>ADAMS Paul</td>\n",
       "      <td>Australia</td>\n",
       "      <td>Shooting</td>\n",
       "    </tr>\n",
       "    <tr>\n",
       "      <th>94</th>\n",
       "      <td>ADAMS Taeyanna</td>\n",
       "      <td>Federated States of Micronesia</td>\n",
       "      <td>Swimming</td>\n",
       "    </tr>\n",
       "    <tr>\n",
       "      <th>95</th>\n",
       "      <td>ADAMUS Bartlomiej Stejan</td>\n",
       "      <td>Poland</td>\n",
       "      <td>Weightlifting</td>\n",
       "    </tr>\n",
       "    <tr>\n",
       "      <th>96</th>\n",
       "      <td>ADAO de SA Mateus Daniel</td>\n",
       "      <td>Brazil</td>\n",
       "      <td>Athletics</td>\n",
       "    </tr>\n",
       "    <tr>\n",
       "      <th>97</th>\n",
       "      <td>ADAR Yasemin</td>\n",
       "      <td>Turkey</td>\n",
       "      <td>Wrestling</td>\n",
       "    </tr>\n",
       "    <tr>\n",
       "      <th>98</th>\n",
       "      <td>ADEBAYO Edrice Femi</td>\n",
       "      <td>United States of America</td>\n",
       "      <td>Basketball</td>\n",
       "    </tr>\n",
       "    <tr>\n",
       "      <th>99</th>\n",
       "      <td>ADEGOKE Enoch</td>\n",
       "      <td>Nigeria</td>\n",
       "      <td>Athletics</td>\n",
       "    </tr>\n",
       "  </tbody>\n",
       "</table>\n",
       "</div>"
      ]
     },
     "metadata": {
      "application/vnd.databricks.v1+output": {
       "addedWidgets": {},
       "arguments": {},
       "data": "<div>\n<style scoped>\n    .dataframe tbody tr th:only-of-type {\n        vertical-align: middle;\n    }\n\n    .dataframe tbody tr th {\n        vertical-align: top;\n    }\n\n    .dataframe thead th {\n        text-align: right;\n    }\n</style>\n<table border=\"1\" class=\"dataframe\">\n  <thead>\n    <tr style=\"text-align: right;\">\n      <th></th>\n      <th>Name</th>\n      <th>NOC</th>\n      <th>Discipline</th>\n    </tr>\n  </thead>\n  <tbody>\n    <tr>\n      <th>0</th>\n      <td>AALERUD Katrine</td>\n      <td>Norway</td>\n      <td>Cycling Road</td>\n    </tr>\n    <tr>\n      <th>1</th>\n      <td>ABAD Nestor</td>\n      <td>Spain</td>\n      <td>Artistic Gymnastics</td>\n    </tr>\n    <tr>\n      <th>2</th>\n      <td>ABAGNALE Giovanni</td>\n      <td>Italy</td>\n      <td>Rowing</td>\n    </tr>\n    <tr>\n      <th>3</th>\n      <td>ABALDE Alberto</td>\n      <td>Spain</td>\n      <td>Basketball</td>\n    </tr>\n    <tr>\n      <th>4</th>\n      <td>ABALDE Tamara</td>\n      <td>Spain</td>\n      <td>Basketball</td>\n    </tr>\n    <tr>\n      <th>5</th>\n      <td>ABALO Luc</td>\n      <td>France</td>\n      <td>Handball</td>\n    </tr>\n    <tr>\n      <th>6</th>\n      <td>ABAROA Cesar</td>\n      <td>Chile</td>\n      <td>Rowing</td>\n    </tr>\n    <tr>\n      <th>7</th>\n      <td>ABASS Abobakr</td>\n      <td>Sudan</td>\n      <td>Swimming</td>\n    </tr>\n    <tr>\n      <th>8</th>\n      <td>ABBASALI Hamideh</td>\n      <td>Islamic Republic of Iran</td>\n      <td>Karate</td>\n    </tr>\n    <tr>\n      <th>9</th>\n      <td>ABBASOV Islam</td>\n      <td>Azerbaijan</td>\n      <td>Wrestling</td>\n    </tr>\n    <tr>\n      <th>10</th>\n      <td>ABBINGH Lois</td>\n      <td>Netherlands</td>\n      <td>Handball</td>\n    </tr>\n    <tr>\n      <th>11</th>\n      <td>ABBOT Emily</td>\n      <td>Australia</td>\n      <td>Rhythmic Gymnastics</td>\n    </tr>\n    <tr>\n      <th>12</th>\n      <td>ABBOTT Monica</td>\n      <td>United States of America</td>\n      <td>Baseball/Softball</td>\n    </tr>\n    <tr>\n      <th>13</th>\n      <td>ABDALLA Abubaker Haydar</td>\n      <td>Qatar</td>\n      <td>Athletics</td>\n    </tr>\n    <tr>\n      <th>14</th>\n      <td>ABDALLA Maryam</td>\n      <td>Egypt</td>\n      <td>Artistic Swimming</td>\n    </tr>\n    <tr>\n      <th>15</th>\n      <td>ABDALLAH Shahd</td>\n      <td>Egypt</td>\n      <td>Artistic Swimming</td>\n    </tr>\n    <tr>\n      <th>16</th>\n      <td>ABDALRASOOL Mohamed</td>\n      <td>Sudan</td>\n      <td>Judo</td>\n    </tr>\n    <tr>\n      <th>17</th>\n      <td>ABDEL LATIF Radwa</td>\n      <td>Egypt</td>\n      <td>Shooting</td>\n    </tr>\n    <tr>\n      <th>18</th>\n      <td>ABDEL RAZEK Samy</td>\n      <td>Egypt</td>\n      <td>Shooting</td>\n    </tr>\n    <tr>\n      <th>19</th>\n      <td>ABDELAZIZ Abdalla</td>\n      <td>Egypt</td>\n      <td>Karate</td>\n    </tr>\n    <tr>\n      <th>20</th>\n      <td>ABDELAZIZ Farah</td>\n      <td>Egypt</td>\n      <td>Table Tennis</td>\n    </tr>\n    <tr>\n      <th>21</th>\n      <td>ABDELAZIZ Feryal</td>\n      <td>Egypt</td>\n      <td>Karate</td>\n    </tr>\n    <tr>\n      <th>22</th>\n      <td>ABDELMAWGOUD Mohamed</td>\n      <td>Egypt</td>\n      <td>Judo</td>\n    </tr>\n    <tr>\n      <th>23</th>\n      <td>ABDELMOTTALEB Diaaeldin Kamal Gouda</td>\n      <td>Egypt</td>\n      <td>Wrestling</td>\n    </tr>\n    <tr>\n      <th>24</th>\n      <td>ABDELRAHMAN Ihab</td>\n      <td>Egypt</td>\n      <td>Athletics</td>\n    </tr>\n    <tr>\n      <th>25</th>\n      <td>ABDELSALAM Mohamed</td>\n      <td>Egypt</td>\n      <td>Football</td>\n    </tr>\n    <tr>\n      <th>26</th>\n      <td>ABDELSALAM Nour</td>\n      <td>Egypt</td>\n      <td>Taekwondo</td>\n    </tr>\n    <tr>\n      <th>27</th>\n      <td>ABDELWAHED Ahmed</td>\n      <td>Italy</td>\n      <td>Athletics</td>\n    </tr>\n    <tr>\n      <th>28</th>\n      <td>ABDI Bashir</td>\n      <td>Belgium</td>\n      <td>Athletics</td>\n    </tr>\n    <tr>\n      <th>29</th>\n      <td>ABDIRAHMAN Abdi</td>\n      <td>United States of America</td>\n      <td>Athletics</td>\n    </tr>\n    <tr>\n      <th>30</th>\n      <td>ABDUL HADI Farah Ann</td>\n      <td>Malaysia</td>\n      <td>Artistic Gymnastics</td>\n    </tr>\n    <tr>\n      <th>31</th>\n      <td>ABDUL RAHMAN Kiria Tikanah</td>\n      <td>Singapore</td>\n      <td>Fencing</td>\n    </tr>\n    <tr>\n      <th>32</th>\n      <td>ABDUL RAZZAQ Fathimath Nabaaha</td>\n      <td>Maldives</td>\n      <td>Badminton</td>\n    </tr>\n    <tr>\n      <th>33</th>\n      <td>ABDULHAMID Saud</td>\n      <td>Saudi Arabia</td>\n      <td>Football</td>\n    </tr>\n    <tr>\n      <th>34</th>\n      <td>ABDULJABBAR Ammar Riad</td>\n      <td>Germany</td>\n      <td>Boxing</td>\n    </tr>\n    <tr>\n      <th>35</th>\n      <td>ABDULLAEV Gulomjon</td>\n      <td>Uzbekistan</td>\n      <td>Wrestling</td>\n    </tr>\n    <tr>\n      <th>36</th>\n      <td>ABDULLAEV Muminjon</td>\n      <td>Uzbekistan</td>\n      <td>Wrestling</td>\n    </tr>\n    <tr>\n      <th>37</th>\n      <td>ABDULLAH Rahmat Erwin</td>\n      <td>Indonesia</td>\n      <td>Weightlifting</td>\n    </tr>\n    <tr>\n      <th>38</th>\n      <td>ABDULLIN Ilfat</td>\n      <td>Kazakhstan</td>\n      <td>Archery</td>\n    </tr>\n    <tr>\n      <th>39</th>\n      <td>ABDULREDHA Mohamed</td>\n      <td>Bahrain</td>\n      <td>Handball</td>\n    </tr>\n    <tr>\n      <th>40</th>\n      <td>ABDURAIMOV Elnur</td>\n      <td>Uzbekistan</td>\n      <td>Boxing</td>\n    </tr>\n    <tr>\n      <th>41</th>\n      <td>ABDURAKHIMOV Rasuljon</td>\n      <td>Uzbekistan</td>\n      <td>Artistic Gymnastics</td>\n    </tr>\n    <tr>\n      <th>42</th>\n      <td>ABDURAKHMONOV Bekzod</td>\n      <td>Uzbekistan</td>\n      <td>Wrestling</td>\n    </tr>\n    <tr>\n      <th>43</th>\n      <td>ABE Hifumi</td>\n      <td>Japan</td>\n      <td>Judo</td>\n    </tr>\n    <tr>\n      <th>44</th>\n      <td>ABE Takatoshi</td>\n      <td>Japan</td>\n      <td>Athletics</td>\n    </tr>\n    <tr>\n      <th>45</th>\n      <td>ABE Uta</td>\n      <td>Japan</td>\n      <td>Judo</td>\n    </tr>\n    <tr>\n      <th>46</th>\n      <td>ABEBE Mekides</td>\n      <td>Ethiopia</td>\n      <td>Athletics</td>\n    </tr>\n    <tr>\n      <th>47</th>\n      <td>ABEDINI Mojtaba</td>\n      <td>Islamic Republic of Iran</td>\n      <td>Fencing</td>\n    </tr>\n    <tr>\n      <th>48</th>\n      <td>ABEL Jennifer</td>\n      <td>Canada</td>\n      <td>Diving</td>\n    </tr>\n    <tr>\n      <th>49</th>\n      <td>ABELA Matthew</td>\n      <td>Malta</td>\n      <td>Badminton</td>\n    </tr>\n    <tr>\n      <th>50</th>\n      <td>ABELVIK ROED Magnus</td>\n      <td>Norway</td>\n      <td>Handball</td>\n    </tr>\n    <tr>\n      <th>51</th>\n      <td>ABEYSINGHE Matthew</td>\n      <td>Sri Lanka</td>\n      <td>Swimming</td>\n    </tr>\n    <tr>\n      <th>52</th>\n      <td>ABIAN Pablo</td>\n      <td>Spain</td>\n      <td>Badminton</td>\n    </tr>\n    <tr>\n      <th>53</th>\n      <td>ABICHA Mohammed</td>\n      <td>Morocco</td>\n      <td>Beach Volleyball</td>\n    </tr>\n    <tr>\n      <th>54</th>\n      <td>ABICHT Lorena</td>\n      <td>Austria</td>\n      <td>Sailing</td>\n    </tr>\n    <tr>\n      <th>55</th>\n      <td>ABIDINE Abidine</td>\n      <td>Mauritania</td>\n      <td>Athletics</td>\n    </tr>\n    <tr>\n      <th>56</th>\n      <td>ABLIAZIN Denis</td>\n      <td>ROC</td>\n      <td>Artistic Gymnastics</td>\n    </tr>\n    <tr>\n      <th>57</th>\n      <td>ABOUD Hadel</td>\n      <td>Libya</td>\n      <td>Athletics</td>\n    </tr>\n    <tr>\n      <th>58</th>\n      <td>ABOUELKASSEM Alaaeldin</td>\n      <td>Egypt</td>\n      <td>Fencing</td>\n    </tr>\n    <tr>\n      <th>59</th>\n      <td>ABOUKE Nancy Genzel</td>\n      <td>Nauru</td>\n      <td>Weightlifting</td>\n    </tr>\n    <tr>\n      <th>60</th>\n      <td>ABRAHAM Tadesse</td>\n      <td>Switzerland</td>\n      <td>Athletics</td>\n    </tr>\n    <tr>\n      <th>61</th>\n      <td>ABRAHAMS Rusten John</td>\n      <td>South Africa</td>\n      <td>Hockey</td>\n    </tr>\n    <tr>\n      <th>62</th>\n      <td>ABRAMS Aliyah</td>\n      <td>Guyana</td>\n      <td>Athletics</td>\n    </tr>\n    <tr>\n      <th>63</th>\n      <td>ABRAMS Jasmine</td>\n      <td>Guyana</td>\n      <td>Athletics</td>\n    </tr>\n    <tr>\n      <th>64</th>\n      <td>ABRAMYAN Benik</td>\n      <td>Georgia</td>\n      <td>Athletics</td>\n    </tr>\n    <tr>\n      <th>65</th>\n      <td>ABREU Diogo</td>\n      <td>Portugal</td>\n      <td>Trampoline Gymnastics</td>\n    </tr>\n    <tr>\n      <th>66</th>\n      <td>ABRINES REDONDO Alejandro</td>\n      <td>Spain</td>\n      <td>Basketball</td>\n    </tr>\n    <tr>\n      <th>67</th>\n      <td>ABROSIMOV Kirill</td>\n      <td>ROC</td>\n      <td>Marathon Swimming</td>\n    </tr>\n    <tr>\n      <th>68</th>\n      <td>ABU RABEE Asma</td>\n      <td>Jordan</td>\n      <td>Shooting</td>\n    </tr>\n    <tr>\n      <th>69</th>\n      <td>ABU RMILAH Wesam</td>\n      <td>Palestine</td>\n      <td>Judo</td>\n    </tr>\n    <tr>\n      <th>70</th>\n      <td>ABUAKU Joshua</td>\n      <td>Germany</td>\n      <td>Athletics</td>\n    </tr>\n    <tr>\n      <th>71</th>\n      <td>ABUJBARA Tala</td>\n      <td>Qatar</td>\n      <td>Rowing</td>\n    </tr>\n    <tr>\n      <th>72</th>\n      <td>ACERENZA Domenico</td>\n      <td>Italy</td>\n      <td>Swimming</td>\n    </tr>\n    <tr>\n      <th>73</th>\n      <td>ACETI Vladimir</td>\n      <td>Italy</td>\n      <td>Athletics</td>\n    </tr>\n    <tr>\n      <th>74</th>\n      <td>ACHAB Jaouad</td>\n      <td>Belgium</td>\n      <td>Taekwondo</td>\n    </tr>\n    <tr>\n      <th>75</th>\n      <td>ACHANTA Kamal</td>\n      <td>India</td>\n      <td>Table Tennis</td>\n    </tr>\n    <tr>\n      <th>76</th>\n      <td>ACHILLEOS Georgios</td>\n      <td>Cyprus</td>\n      <td>Shooting</td>\n    </tr>\n    <tr>\n      <th>77</th>\n      <td>ACHIUWA Precious</td>\n      <td>Nigeria</td>\n      <td>Basketball</td>\n    </tr>\n    <tr>\n      <th>78</th>\n      <td>ACHONWA Natalie</td>\n      <td>Canada</td>\n      <td>Basketball</td>\n    </tr>\n    <tr>\n      <th>79</th>\n      <td>ACHOURI Haikel</td>\n      <td>Tunisia</td>\n      <td>Wrestling</td>\n    </tr>\n    <tr>\n      <th>80</th>\n      <td>ACKERMANN Simone</td>\n      <td>South Africa</td>\n      <td>Triathlon</td>\n    </tr>\n    <tr>\n      <th>81</th>\n      <td>ACOSTA Briseida</td>\n      <td>Mexico</td>\n      <td>Taekwondo</td>\n    </tr>\n    <tr>\n      <th>82</th>\n      <td>ACOSTA FERNANDEZ Yasmani</td>\n      <td>Chile</td>\n      <td>Wrestling</td>\n    </tr>\n    <tr>\n      <th>83</th>\n      <td>ACOSTA GIRALDO Valentina</td>\n      <td>Colombia</td>\n      <td>Archery</td>\n    </tr>\n    <tr>\n      <th>84</th>\n      <td>ACOSTA Marcelo</td>\n      <td>El Salvador</td>\n      <td>Swimming</td>\n    </tr>\n    <tr>\n      <th>85</th>\n      <td>ACUNA Yenny</td>\n      <td>Chile</td>\n      <td>Football</td>\n    </tr>\n    <tr>\n      <th>86</th>\n      <td>ADACHI Kazuya</td>\n      <td>Japan</td>\n      <td>Canoe Slalom</td>\n    </tr>\n    <tr>\n      <th>87</th>\n      <td>ADACHI Seiya</td>\n      <td>Japan</td>\n      <td>Water Polo</td>\n    </tr>\n    <tr>\n      <th>88</th>\n      <td>ADAM Amal</td>\n      <td>Egypt</td>\n      <td>Archery</td>\n    </tr>\n    <tr>\n      <th>89</th>\n      <td>ADAM Constantin</td>\n      <td>Romania</td>\n      <td>Rowing</td>\n    </tr>\n    <tr>\n      <th>90</th>\n      <td>ADAMEK Klaudia</td>\n      <td>Poland</td>\n      <td>Athletics</td>\n    </tr>\n    <tr>\n      <th>91</th>\n      <td>ADAMKIEWICZ Patrycja</td>\n      <td>Poland</td>\n      <td>Taekwondo</td>\n    </tr>\n    <tr>\n      <th>92</th>\n      <td>ADAMS Liam</td>\n      <td>Australia</td>\n      <td>Athletics</td>\n    </tr>\n    <tr>\n      <th>93</th>\n      <td>ADAMS Paul</td>\n      <td>Australia</td>\n      <td>Shooting</td>\n    </tr>\n    <tr>\n      <th>94</th>\n      <td>ADAMS Taeyanna</td>\n      <td>Federated States of Micronesia</td>\n      <td>Swimming</td>\n    </tr>\n    <tr>\n      <th>95</th>\n      <td>ADAMUS Bartlomiej Stejan</td>\n      <td>Poland</td>\n      <td>Weightlifting</td>\n    </tr>\n    <tr>\n      <th>96</th>\n      <td>ADAO de SA Mateus Daniel</td>\n      <td>Brazil</td>\n      <td>Athletics</td>\n    </tr>\n    <tr>\n      <th>97</th>\n      <td>ADAR Yasemin</td>\n      <td>Turkey</td>\n      <td>Wrestling</td>\n    </tr>\n    <tr>\n      <th>98</th>\n      <td>ADEBAYO Edrice Femi</td>\n      <td>United States of America</td>\n      <td>Basketball</td>\n    </tr>\n    <tr>\n      <th>99</th>\n      <td>ADEGOKE Enoch</td>\n      <td>Nigeria</td>\n      <td>Athletics</td>\n    </tr>\n  </tbody>\n</table>\n</div>",
       "datasetInfos": [],
       "metadata": {},
       "removedWidgets": [],
       "textData": null,
       "type": "htmlSandbox"
      }
     },
     "output_type": "display_data"
    }
   ],
   "source": [
    "athlets=pd.read_csv('dbfs:/FileStore/Athletes.csv')\n",
    "athlets.head(100)"
   ]
  },
  {
   "cell_type": "code",
   "execution_count": 0,
   "metadata": {
    "application/vnd.databricks.v1+cell": {
     "cellMetadata": {
      "byteLimit": 2048000,
      "rowLimit": 10000
     },
     "inputWidgets": {},
     "nuid": "462f69a7-5dd3-499f-a095-4329c3c37bde",
     "showTitle": false,
     "title": ""
    }
   },
   "outputs": [
    {
     "output_type": "stream",
     "name": "stdout",
     "output_type": "stream",
     "text": [
      "<class 'pyspark.pandas.frame.DataFrame'>\nInt64Index: 11085 entries, 0 to 11084\nData columns (total 3 columns):\n #   Column      Non-Null Count  Dtype \n---  ------      --------------  ----- \n 0   Name        11085 non-null  object\n 1   NOC         11085 non-null  object\n 2   Discipline  11085 non-null  object\ndtypes: object(3)"
     ]
    }
   ],
   "source": [
    "athlets.info()"
   ]
  },
  {
   "cell_type": "code",
   "execution_count": 0,
   "metadata": {
    "application/vnd.databricks.v1+cell": {
     "cellMetadata": {
      "byteLimit": 2048000,
      "rowLimit": 10000
     },
     "inputWidgets": {},
     "nuid": "3d71dde6-52e2-4e82-b139-7c4b43b79e79",
     "showTitle": false,
     "title": ""
    }
   },
   "outputs": [
    {
     "output_type": "stream",
     "name": "stdout",
     "output_type": "stream",
     "text": [
      "Out[6]: 11085"
     ]
    }
   ],
   "source": [
    "athlets.shape\n",
    "\n",
    "athlets.shape[0]\n",
    "\n",
    "# total participants player = 11085"
   ]
  },
  {
   "cell_type": "code",
   "execution_count": 0,
   "metadata": {
    "application/vnd.databricks.v1+cell": {
     "cellMetadata": {
      "byteLimit": 2048000,
      "rowLimit": 10000
     },
     "inputWidgets": {},
     "nuid": "a4918af7-45df-4c82-9bef-36b3f76eb49f",
     "showTitle": false,
     "title": ""
    }
   },
   "outputs": [],
   "source": [
    "# lets group by noc to find total countries and their players.\n",
    "\n",
    "no_of_countries=athlets.groupby('NOC')\n",
    "\n",
    "\n"
   ]
  },
  {
   "cell_type": "code",
   "execution_count": 0,
   "metadata": {
    "application/vnd.databricks.v1+cell": {
     "cellMetadata": {
      "byteLimit": 2048000,
      "rowLimit": 10000
     },
     "inputWidgets": {},
     "nuid": "6f16240a-e669-4182-baf4-7f8759a00f74",
     "showTitle": false,
     "title": ""
    }
   },
   "outputs": [
    {
     "output_type": "stream",
     "name": "stdout",
     "output_type": "stream",
     "text": [
      "Out[8]: 11085"
     ]
    }
   ],
   "source": [
    "len(athlets)"
   ]
  },
  {
   "cell_type": "code",
   "execution_count": 0,
   "metadata": {
    "application/vnd.databricks.v1+cell": {
     "cellMetadata": {
      "byteLimit": 2048000,
      "rowLimit": 10000
     },
     "inputWidgets": {},
     "nuid": "6e911c93-9bf9-4807-8c5e-d3d54662fb16",
     "showTitle": false,
     "title": ""
    }
   },
   "outputs": [
    {
     "output_type": "stream",
     "name": "stdout",
     "output_type": "stream",
     "text": [
      "Out[9]: <pyspark.pandas.groupby.DataFrameGroupBy at 0x7f6348082c10>"
     ]
    }
   ],
   "source": [
    "no_of_countries"
   ]
  },
  {
   "cell_type": "code",
   "execution_count": 0,
   "metadata": {
    "application/vnd.databricks.v1+cell": {
     "cellMetadata": {
      "byteLimit": 2048000,
      "rowLimit": 10000
     },
     "inputWidgets": {},
     "nuid": "5c0def0f-f569-44cb-9fb4-06ef0d171946",
     "showTitle": false,
     "title": ""
    }
   },
   "outputs": [
    {
     "output_type": "stream",
     "name": "stdout",
     "output_type": "stream",
     "text": [
      "Out[10]: NOC\nUnited States of America              615\nJapan                                 586\nAustralia                             470\nPeople's Republic of China            401\nGermany                               400\nFrance                                377\nCanada                                368\nGreat Britain                         366\nItaly                                 356\nSpain                                 324\nROC                                   318\nBrazil                                291\nNetherlands                           274\nRepublic of Korea                     223\nNew Zealand                           202\nPoland                                195\nArgentina                             180\nSouth Africa                          171\nMexico                                155\nHungary                               155\nUkraine                               152\nEgypt                                 133\nSweden                                129\nBelgium                               125\nIndia                                 117\nCzech Republic                        117\nIreland                               116\nSwitzerland                           115\nBelarus                               104\nDenmark                               103\nTurkey                                102\nRomania                                99\nNorway                                 92\nKazakhstan                             92\nIsrael                                 85\nPortugal                               85\nSerbia                                 83\nKenya                                  78\nGreece                                 75\nAustria                                72\nCuba                                   69\nChinese Taipei                         67\nIslamic Republic of Iran               66\nColombia                               64\nUzbekistan                             63\nDominican Republic                     61\nJamaica                                60\nNigeria                                59\nCroatia                                57\nTunisia                                57\nChile                                  56\nSlovenia                               51\nMorocco                                48\nEcuador                                46\nFinland                                45\nVenezuela                              43\nMongolia                               43\nEthiopia                               42\nAlgeria                                41\nAzerbaijan                             41\nBulgaria                               41\nHong Kong, China                       40\nThailand                               39\nSlovakia                               38\nLithuania                              37\nPuerto Rico                            35\nGeorgia                                35\nMontenegro                             35\nPeru                                   33\nEstonia                                33\nSaudi Arabia                           32\nTrinidad and Tobago                    31\nBahrain                                31\nCôte d'Ivoire                          29\nMalaysia                               29\nZambia                                 29\nLatvia                                 29\nFiji                                   28\nRefugee Olympic Team                   26\nIndonesia                              26\nHonduras                               25\nUganda                                 24\nSingapore                              23\nGuatemala                              22\nAngola                                 20\nRepublic of Moldova                    19\nPhilippines                            18\nVietnam                                17\nBahamas                                16\nArmenia                                16\nKyrgyzstan                             16\nQatar                                  14\nGhana                                  14\nCyprus                                 14\nEritrea                                13\nBotswana                               13\nCosta Rica                             13\nJordan                                 11\nUruguay                                11\nNamibia                                11\nLuxembourg                             11\nCameroon                               11\nKosovo                                 10\nKuwait                                 10\nPakistan                               10\nSenegal                                 9\nSri Lanka                               9\nPanama                                  9\nParaguay                                8\nAlbania                                 8\nNicaragua                               8\nTajikistan                              8\nTurkmenistan                            8\nSamoa                                   8\nNorth Macedonia                         8\nMozambique                              8\nGuyana                                  7\nBenin                                   7\nNiger                                   7\nBarbados                                7\nDemocratic Republic of the Congo        7\nBosnia and Herzegovina                  7\nPapua New Guinea                        7\nBurkina Faso                            7\nMauritius                               7\nMadagascar                              6\nMalta                                   6\nBurundi                                 6\nBangladesh                              6\nMonaco                                  6\nCape Verde                              6\nGrenada                                 6\nCook Islands                            6\nLebanon                                 6\nAntigua and Barbuda                     6\nHaiti                                   6\nSyrian Arab Republic                    6\nTonga                                   5\nMalawi                                  5\nAfghanistan                             5\nRwanda                                  5\nSudan                                   5\nAmerican Samoa                          5\nCayman Islands                          5\nBolivia                                 5\nGabon                                   5\nLiechtenstein                           5\nOman                                    5\nZimbabwe                                5\nGuam                                    5\nSaint Lucia                             5\nGuinea                                  5\nSeychelles                              5\nNepal                                   5\nEl Salvador                             5\nDjibouti                                4\nIraq                                    4\nMaldives                                4\nTogo                                    4\nSan Marino                              4\nSierra Leone                            4\nIceland                                 4\nPalestine                               4\nLibya                                   4\nEswatini                                4\nUnited Arab Emirates                    4\nLao People's Democratic Republic        4\nGuinea-Bissau                           4\nVirgin Islands, US                      4\nMali                                    4\nChad                                    3\nYemen                                   3\nKiribati                                3\nComoros                                 3\nCambodia                                3\nPalau                                   3\nEquatorial Guinea                       3\nSao Tome and Principe                   3\nSuriname                                3\nCongo                                   3\nBhutan                                  3\nVirgin Islands, British                 3\nAruba                                   3\nFederated States of Micronesia          3\nLiberia                                 3\nBelize                                  3\nGambia                                  3\nSolomon Islands                         3\nDemocratic Republic of Timor-Leste      3\nDominica                                2\nLesotho                                 2\nMyanmar                                 2\nBrunei Darussalam                       2\nSomalia                                 2\nMarshall Islands                        2\nTuvalu                                  2\nUnited Republic of Tanzania             2\nAndorra                                 2\nSt Vincent and the Grenadines           2\nMauritania                              2\nCentral African Republic                2\nNauru                                   2\nSaint Kitts and Nevis                   2\nSouth Sudan                             2\nBermuda                                 2\nVanuatu                                 2\ndtype: int64"
     ]
    }
   ],
   "source": [
    "country_players=no_of_countries.size().sort_values(ascending=False)\n",
    "country_players\n",
    "# total no_of_Players of each country"
   ]
  },
  {
   "cell_type": "code",
   "execution_count": 0,
   "metadata": {
    "application/vnd.databricks.v1+cell": {
     "cellMetadata": {
      "byteLimit": 2048000,
      "rowLimit": 10000
     },
     "inputWidgets": {},
     "nuid": "a0f761e6-a9c7-42b9-94d1-614ae34491c6",
     "showTitle": false,
     "title": ""
    }
   },
   "outputs": [
    {
     "output_type": "stream",
     "name": "stdout",
     "output_type": "stream",
     "text": [
      "Out[11]: 206"
     ]
    }
   ],
   "source": [
    "toatl_countries=no_of_countries.size().sort_values(ascending=False).count()\n",
    "\n",
    "# total countries parcticipated in olypmpics\n",
    "\n",
    "toatl_countries\n",
    "\n",
    "#206 countries\n"
   ]
  },
  {
   "cell_type": "code",
   "execution_count": 0,
   "metadata": {
    "application/vnd.databricks.v1+cell": {
     "cellMetadata": {
      "byteLimit": 2048000,
      "rowLimit": 10000
     },
     "inputWidgets": {},
     "nuid": "60b142d3-c30d-4567-b5dd-f9adf98ccd09",
     "showTitle": false,
     "title": ""
    }
   },
   "outputs": [],
   "source": [
    "# no of disciplined / games played in olympics.\n",
    "\n",
    "no_of_dicsipline= athlets.groupby('Discipline')"
   ]
  },
  {
   "cell_type": "code",
   "execution_count": 0,
   "metadata": {
    "application/vnd.databricks.v1+cell": {
     "cellMetadata": {
      "byteLimit": 2048000,
      "rowLimit": 10000
     },
     "inputWidgets": {},
     "nuid": "7939f9e3-7e1c-430d-bcdf-4ac53c25aa56",
     "showTitle": false,
     "title": ""
    }
   },
   "outputs": [
    {
     "output_type": "stream",
     "name": "stdout",
     "output_type": "stream",
     "text": [
      "Out[13]: Discipline\nAthletics                2068\nSwimming                  743\nFootball                  567\nRowing                    496\nHockey                    406\nJudo                      373\nHandball                  343\nShooting                  342\nSailing                   336\nRugby Sevens              283\nBasketball                280\nWrestling                 279\nVolleyball                274\nBoxing                    270\nWater Polo                269\nFencing                   249\nEquestrian                237\nCanoe Sprint              236\nBaseball/Softball         220\nCycling Track             208\nCycling Road              190\nArtistic Gymnastics       187\nWeightlifting             187\nTennis                    178\nBadminton                 164\nTable Tennis              164\nDiving                    133\nTaekwondo                 123\nArchery                   122\nGolf                      115\nTriathlon                 106\nArtistic Swimming          98\nRhythmic Gymnastics        95\nBeach Volleyball           90\nCanoe Slalom               78\nKarate                     77\nSkateboarding              77\nCycling Mountain Bike      74\nModern Pentathlon          69\n3x3 Basketball             62\nMarathon Swimming          49\nCycling BMX Racing         43\nSurfing                    38\nSport Climbing             37\nTrampoline Gymnastics      31\nCycling BMX Freestyle      19\ndtype: int64"
     ]
    }
   ],
   "source": [
    "no_of_dicsipline.size().sort_values(ascending=False)"
   ]
  },
  {
   "cell_type": "code",
   "execution_count": 0,
   "metadata": {
    "application/vnd.databricks.v1+cell": {
     "cellMetadata": {
      "byteLimit": 2048000,
      "rowLimit": 10000
     },
     "inputWidgets": {},
     "nuid": "b0047585-49da-45d5-9b96-5b08d256b818",
     "showTitle": false,
     "title": ""
    }
   },
   "outputs": [
    {
     "output_type": "stream",
     "name": "stdout",
     "output_type": "stream",
     "text": [
      "Out[14]: 46"
     ]
    }
   ],
   "source": [
    "toatal_discipline=no_of_dicsipline.size().sort_values(ascending=False).count()\n",
    "\n",
    "toatal_discipline\n",
    "# no_of_discipline = 46"
   ]
  },
  {
   "cell_type": "code",
   "execution_count": 0,
   "metadata": {
    "application/vnd.databricks.v1+cell": {
     "cellMetadata": {
      "byteLimit": 2048000,
      "rowLimit": 10000
     },
     "inputWidgets": {},
     "nuid": "9a9bcafb-348a-4bc4-8f74-56a3f3bc6be6",
     "showTitle": false,
     "title": ""
    }
   },
   "outputs": [
    {
     "output_type": "stream",
     "name": "stdout",
     "output_type": "stream",
     "text": [
      "Out[15]: NOC\nUnited States of America      615\nJapan                         586\nAustralia                     470\nPeople's Republic of China    401\nGermany                       400\ndtype: int64"
     ]
    }
   ],
   "source": [
    "country_players.head(5)"
   ]
  },
  {
   "cell_type": "code",
   "execution_count": 0,
   "metadata": {
    "application/vnd.databricks.v1+cell": {
     "cellMetadata": {
      "byteLimit": 2048000,
      "rowLimit": 10000
     },
     "inputWidgets": {},
     "nuid": "79d9f1c8-7c21-4109-9217-3ace3949d5c0",
     "showTitle": false,
     "title": ""
    }
   },
   "outputs": [
    {
     "output_type": "display_data",
     "data": {
      "text/html": [
       "<div>\n",
       "<style scoped>\n",
       "    .dataframe tbody tr th:only-of-type {\n",
       "        vertical-align: middle;\n",
       "    }\n",
       "\n",
       "    .dataframe tbody tr th {\n",
       "        vertical-align: top;\n",
       "    }\n",
       "\n",
       "    .dataframe thead th {\n",
       "        text-align: right;\n",
       "    }\n",
       "</style>\n",
       "<table border=\"1\" class=\"dataframe\">\n",
       "  <thead>\n",
       "    <tr style=\"text-align: right;\">\n",
       "      <th></th>\n",
       "      <th>Name</th>\n",
       "      <th>NOC</th>\n",
       "      <th>Discipline</th>\n",
       "      <th>Event</th>\n",
       "    </tr>\n",
       "  </thead>\n",
       "  <tbody>\n",
       "    <tr>\n",
       "      <th>0</th>\n",
       "      <td>ABDELMAGID Wael</td>\n",
       "      <td>Egypt</td>\n",
       "      <td>Football</td>\n",
       "      <td>None</td>\n",
       "    </tr>\n",
       "    <tr>\n",
       "      <th>1</th>\n",
       "      <td>ABE Junya</td>\n",
       "      <td>Japan</td>\n",
       "      <td>Volleyball</td>\n",
       "      <td>None</td>\n",
       "    </tr>\n",
       "    <tr>\n",
       "      <th>2</th>\n",
       "      <td>ABE Katsuhiko</td>\n",
       "      <td>Japan</td>\n",
       "      <td>Basketball</td>\n",
       "      <td>None</td>\n",
       "    </tr>\n",
       "    <tr>\n",
       "      <th>3</th>\n",
       "      <td>ADAMA Cherif</td>\n",
       "      <td>Côte d'Ivoire</td>\n",
       "      <td>Football</td>\n",
       "      <td>None</td>\n",
       "    </tr>\n",
       "    <tr>\n",
       "      <th>4</th>\n",
       "      <td>AGEBA Yuya</td>\n",
       "      <td>Japan</td>\n",
       "      <td>Volleyball</td>\n",
       "      <td>None</td>\n",
       "    </tr>\n",
       "    <tr>\n",
       "      <th>5</th>\n",
       "      <td>AIKMAN Siegfried Gottlieb</td>\n",
       "      <td>Japan</td>\n",
       "      <td>Hockey</td>\n",
       "      <td>Men</td>\n",
       "    </tr>\n",
       "    <tr>\n",
       "      <th>6</th>\n",
       "      <td>AL SAADI Kais</td>\n",
       "      <td>Germany</td>\n",
       "      <td>Hockey</td>\n",
       "      <td>Men</td>\n",
       "    </tr>\n",
       "    <tr>\n",
       "      <th>7</th>\n",
       "      <td>ALAMEDA Lonni</td>\n",
       "      <td>Canada</td>\n",
       "      <td>Baseball/Softball</td>\n",
       "      <td>Softball</td>\n",
       "    </tr>\n",
       "    <tr>\n",
       "      <th>8</th>\n",
       "      <td>ALEKNO Vladimir</td>\n",
       "      <td>Islamic Republic of Iran</td>\n",
       "      <td>Volleyball</td>\n",
       "      <td>Men</td>\n",
       "    </tr>\n",
       "    <tr>\n",
       "      <th>9</th>\n",
       "      <td>ALEKSEEV Alexey</td>\n",
       "      <td>ROC</td>\n",
       "      <td>Handball</td>\n",
       "      <td>Women</td>\n",
       "    </tr>\n",
       "  </tbody>\n",
       "</table>\n",
       "</div>"
      ]
     },
     "metadata": {
      "application/vnd.databricks.v1+output": {
       "addedWidgets": {},
       "arguments": {},
       "data": "<div>\n<style scoped>\n    .dataframe tbody tr th:only-of-type {\n        vertical-align: middle;\n    }\n\n    .dataframe tbody tr th {\n        vertical-align: top;\n    }\n\n    .dataframe thead th {\n        text-align: right;\n    }\n</style>\n<table border=\"1\" class=\"dataframe\">\n  <thead>\n    <tr style=\"text-align: right;\">\n      <th></th>\n      <th>Name</th>\n      <th>NOC</th>\n      <th>Discipline</th>\n      <th>Event</th>\n    </tr>\n  </thead>\n  <tbody>\n    <tr>\n      <th>0</th>\n      <td>ABDELMAGID Wael</td>\n      <td>Egypt</td>\n      <td>Football</td>\n      <td>None</td>\n    </tr>\n    <tr>\n      <th>1</th>\n      <td>ABE Junya</td>\n      <td>Japan</td>\n      <td>Volleyball</td>\n      <td>None</td>\n    </tr>\n    <tr>\n      <th>2</th>\n      <td>ABE Katsuhiko</td>\n      <td>Japan</td>\n      <td>Basketball</td>\n      <td>None</td>\n    </tr>\n    <tr>\n      <th>3</th>\n      <td>ADAMA Cherif</td>\n      <td>Côte d'Ivoire</td>\n      <td>Football</td>\n      <td>None</td>\n    </tr>\n    <tr>\n      <th>4</th>\n      <td>AGEBA Yuya</td>\n      <td>Japan</td>\n      <td>Volleyball</td>\n      <td>None</td>\n    </tr>\n    <tr>\n      <th>5</th>\n      <td>AIKMAN Siegfried Gottlieb</td>\n      <td>Japan</td>\n      <td>Hockey</td>\n      <td>Men</td>\n    </tr>\n    <tr>\n      <th>6</th>\n      <td>AL SAADI Kais</td>\n      <td>Germany</td>\n      <td>Hockey</td>\n      <td>Men</td>\n    </tr>\n    <tr>\n      <th>7</th>\n      <td>ALAMEDA Lonni</td>\n      <td>Canada</td>\n      <td>Baseball/Softball</td>\n      <td>Softball</td>\n    </tr>\n    <tr>\n      <th>8</th>\n      <td>ALEKNO Vladimir</td>\n      <td>Islamic Republic of Iran</td>\n      <td>Volleyball</td>\n      <td>Men</td>\n    </tr>\n    <tr>\n      <th>9</th>\n      <td>ALEKSEEV Alexey</td>\n      <td>ROC</td>\n      <td>Handball</td>\n      <td>Women</td>\n    </tr>\n  </tbody>\n</table>\n</div>",
       "datasetInfos": [],
       "metadata": {},
       "removedWidgets": [],
       "textData": null,
       "type": "htmlSandbox"
      }
     },
     "output_type": "display_data"
    }
   ],
   "source": [
    "coaches=pd.read_csv('dbfs:/FileStore/Coaches.csv')\n",
    "coaches.head(10)"
   ]
  },
  {
   "cell_type": "code",
   "execution_count": 0,
   "metadata": {
    "application/vnd.databricks.v1+cell": {
     "cellMetadata": {
      "byteLimit": 2048000,
      "rowLimit": 10000
     },
     "inputWidgets": {},
     "nuid": "98d6beb4-cad9-4a25-8c24-5b913df0059f",
     "showTitle": false,
     "title": ""
    }
   },
   "outputs": [
    {
     "output_type": "display_data",
     "data": {
      "text/html": [
       "<div>\n",
       "<style scoped>\n",
       "    .dataframe tbody tr th:only-of-type {\n",
       "        vertical-align: middle;\n",
       "    }\n",
       "\n",
       "    .dataframe tbody tr th {\n",
       "        vertical-align: top;\n",
       "    }\n",
       "\n",
       "    .dataframe thead th {\n",
       "        text-align: right;\n",
       "    }\n",
       "</style>\n",
       "<table border=\"1\" class=\"dataframe\">\n",
       "  <thead>\n",
       "    <tr style=\"text-align: right;\">\n",
       "      <th></th>\n",
       "      <th>Name</th>\n",
       "      <th>NOC</th>\n",
       "      <th>Discipline</th>\n",
       "      <th>Event</th>\n",
       "    </tr>\n",
       "  </thead>\n",
       "  <tbody>\n",
       "    <tr>\n",
       "      <th>0</th>\n",
       "      <td>ABDELMAGID Wael</td>\n",
       "      <td>Egypt</td>\n",
       "      <td>Football</td>\n",
       "      <td>None</td>\n",
       "    </tr>\n",
       "    <tr>\n",
       "      <th>1</th>\n",
       "      <td>ABE Junya</td>\n",
       "      <td>Japan</td>\n",
       "      <td>Volleyball</td>\n",
       "      <td>None</td>\n",
       "    </tr>\n",
       "    <tr>\n",
       "      <th>2</th>\n",
       "      <td>ABE Katsuhiko</td>\n",
       "      <td>Japan</td>\n",
       "      <td>Basketball</td>\n",
       "      <td>None</td>\n",
       "    </tr>\n",
       "    <tr>\n",
       "      <th>3</th>\n",
       "      <td>ADAMA Cherif</td>\n",
       "      <td>Côte d'Ivoire</td>\n",
       "      <td>Football</td>\n",
       "      <td>None</td>\n",
       "    </tr>\n",
       "    <tr>\n",
       "      <th>4</th>\n",
       "      <td>AGEBA Yuya</td>\n",
       "      <td>Japan</td>\n",
       "      <td>Volleyball</td>\n",
       "      <td>None</td>\n",
       "    </tr>\n",
       "    <tr>\n",
       "      <th>5</th>\n",
       "      <td>AIKMAN Siegfried Gottlieb</td>\n",
       "      <td>Japan</td>\n",
       "      <td>Hockey</td>\n",
       "      <td>Men</td>\n",
       "    </tr>\n",
       "    <tr>\n",
       "      <th>6</th>\n",
       "      <td>AL SAADI Kais</td>\n",
       "      <td>Germany</td>\n",
       "      <td>Hockey</td>\n",
       "      <td>Men</td>\n",
       "    </tr>\n",
       "    <tr>\n",
       "      <th>7</th>\n",
       "      <td>ALAMEDA Lonni</td>\n",
       "      <td>Canada</td>\n",
       "      <td>Baseball/Softball</td>\n",
       "      <td>Softball</td>\n",
       "    </tr>\n",
       "    <tr>\n",
       "      <th>8</th>\n",
       "      <td>ALEKNO Vladimir</td>\n",
       "      <td>Islamic Republic of Iran</td>\n",
       "      <td>Volleyball</td>\n",
       "      <td>Men</td>\n",
       "    </tr>\n",
       "    <tr>\n",
       "      <th>9</th>\n",
       "      <td>ALEKSEEV Alexey</td>\n",
       "      <td>ROC</td>\n",
       "      <td>Handball</td>\n",
       "      <td>Women</td>\n",
       "    </tr>\n",
       "  </tbody>\n",
       "</table>\n",
       "</div>"
      ]
     },
     "metadata": {
      "application/vnd.databricks.v1+output": {
       "addedWidgets": {},
       "arguments": {},
       "data": "<div>\n<style scoped>\n    .dataframe tbody tr th:only-of-type {\n        vertical-align: middle;\n    }\n\n    .dataframe tbody tr th {\n        vertical-align: top;\n    }\n\n    .dataframe thead th {\n        text-align: right;\n    }\n</style>\n<table border=\"1\" class=\"dataframe\">\n  <thead>\n    <tr style=\"text-align: right;\">\n      <th></th>\n      <th>Name</th>\n      <th>NOC</th>\n      <th>Discipline</th>\n      <th>Event</th>\n    </tr>\n  </thead>\n  <tbody>\n    <tr>\n      <th>0</th>\n      <td>ABDELMAGID Wael</td>\n      <td>Egypt</td>\n      <td>Football</td>\n      <td>None</td>\n    </tr>\n    <tr>\n      <th>1</th>\n      <td>ABE Junya</td>\n      <td>Japan</td>\n      <td>Volleyball</td>\n      <td>None</td>\n    </tr>\n    <tr>\n      <th>2</th>\n      <td>ABE Katsuhiko</td>\n      <td>Japan</td>\n      <td>Basketball</td>\n      <td>None</td>\n    </tr>\n    <tr>\n      <th>3</th>\n      <td>ADAMA Cherif</td>\n      <td>Côte d'Ivoire</td>\n      <td>Football</td>\n      <td>None</td>\n    </tr>\n    <tr>\n      <th>4</th>\n      <td>AGEBA Yuya</td>\n      <td>Japan</td>\n      <td>Volleyball</td>\n      <td>None</td>\n    </tr>\n    <tr>\n      <th>5</th>\n      <td>AIKMAN Siegfried Gottlieb</td>\n      <td>Japan</td>\n      <td>Hockey</td>\n      <td>Men</td>\n    </tr>\n    <tr>\n      <th>6</th>\n      <td>AL SAADI Kais</td>\n      <td>Germany</td>\n      <td>Hockey</td>\n      <td>Men</td>\n    </tr>\n    <tr>\n      <th>7</th>\n      <td>ALAMEDA Lonni</td>\n      <td>Canada</td>\n      <td>Baseball/Softball</td>\n      <td>Softball</td>\n    </tr>\n    <tr>\n      <th>8</th>\n      <td>ALEKNO Vladimir</td>\n      <td>Islamic Republic of Iran</td>\n      <td>Volleyball</td>\n      <td>Men</td>\n    </tr>\n    <tr>\n      <th>9</th>\n      <td>ALEKSEEV Alexey</td>\n      <td>ROC</td>\n      <td>Handball</td>\n      <td>Women</td>\n    </tr>\n  </tbody>\n</table>\n</div>",
       "datasetInfos": [],
       "metadata": {},
       "removedWidgets": [],
       "textData": null,
       "type": "htmlSandbox"
      }
     },
     "output_type": "display_data"
    }
   ],
   "source": [
    "coaches.sort_values(['Name']).head(10)"
   ]
  },
  {
   "cell_type": "code",
   "execution_count": 0,
   "metadata": {
    "application/vnd.databricks.v1+cell": {
     "cellMetadata": {
      "byteLimit": 2048000,
      "rowLimit": 10000
     },
     "inputWidgets": {},
     "nuid": "a3538e79-5352-4b05-ab82-9d367ca496eb",
     "showTitle": false,
     "title": ""
    }
   },
   "outputs": [
    {
     "output_type": "stream",
     "name": "stdout",
     "output_type": "stream",
     "text": [
      "Out[18]: 394"
     ]
    }
   ],
   "source": [
    "coaches.shape[0]\n",
    "# 394 coaches participated in olympic 2021"
   ]
  },
  {
   "cell_type": "code",
   "execution_count": 0,
   "metadata": {
    "application/vnd.databricks.v1+cell": {
     "cellMetadata": {
      "byteLimit": 2048000,
      "rowLimit": 10000
     },
     "inputWidgets": {},
     "nuid": "8a454fbd-1312-44be-8c10-8898e6997e44",
     "showTitle": false,
     "title": ""
    }
   },
   "outputs": [],
   "source": [
    "# coaches by country\n",
    "\n",
    "coahes_by_country=coaches.groupby('NOC')\n",
    "\n",
    "\n"
   ]
  },
  {
   "cell_type": "code",
   "execution_count": 0,
   "metadata": {
    "application/vnd.databricks.v1+cell": {
     "cellMetadata": {
      "byteLimit": 2048000,
      "rowLimit": 10000
     },
     "inputWidgets": {},
     "nuid": "275f4f35-a763-4de1-8c58-8ec6b3f0ab47",
     "showTitle": false,
     "title": ""
    }
   },
   "outputs": [
    {
     "output_type": "stream",
     "name": "stdout",
     "output_type": "stream",
     "text": [
      "Out[20]: NOC\nJapan                         35\nSpain                         28\nUnited States of America      28\nAustralia                     22\nCanada                        16\nItaly                         14\nPeople's Republic of China    12\nEgypt                         12\nSouth Africa                  12\nROC                           12\nArgentina                     11\nFrance                        10\nVenezuela                     10\nNetherlands                   10\nGermany                        9\nNigeria                        9\nMexico                         8\nNew Zealand                    8\nRepublic of Korea              7\nGreat Britain                  7\nBrazil                         7\nGreece                         6\nChile                          6\nDominican Republic             6\nCôte d'Ivoire                  5\nBelgium                        5\nIndia                          5\nKenya                          5\nSerbia                         5\nUkraine                        4\nHungary                        4\nSweden                         3\nPuerto Rico                    3\nNorway                         3\nIreland                        3\nSlovenia                       3\nPoland                         3\nAustria                        3\nIslamic Republic of Iran       2\nFiji                           2\nSan Marino                     2\nDenmark                        2\nIsrael                         2\nMontenegro                     2\nSaudi Arabia                   2\nZambia                         2\nCzech Republic                 2\nRomania                        2\nKazakhstan                     2\nColombia                       2\nTurkey                         1\nCambodia                       1\nSlovakia                       1\nAngola                         1\nBelarus                        1\nCroatia                        1\nLiechtenstein                  1\nTunisia                        1\nHonduras                       1\nPortugal                       1\nBahrain                        1\ndtype: int64"
     ]
    }
   ],
   "source": [
    "coahes_by_country.size().sort_values(ascending=False)"
   ]
  },
  {
   "cell_type": "code",
   "execution_count": 0,
   "metadata": {
    "application/vnd.databricks.v1+cell": {
     "cellMetadata": {
      "byteLimit": 2048000,
      "rowLimit": 10000
     },
     "inputWidgets": {},
     "nuid": "198a5a16-34b1-483d-9bb7-528f76ec17f8",
     "showTitle": false,
     "title": ""
    }
   },
   "outputs": [
    {
     "output_type": "stream",
     "name": "stdout",
     "output_type": "stream",
     "text": [
      "Out[21]: 61"
     ]
    }
   ],
   "source": [
    "coahes_by_country.size().sort_values(ascending=False).count()\n",
    "\n",
    "# so total 61 countries send total 394 coaches for their players among 206 counties"
   ]
  },
  {
   "cell_type": "code",
   "execution_count": 0,
   "metadata": {
    "application/vnd.databricks.v1+cell": {
     "cellMetadata": {
      "byteLimit": 2048000,
      "rowLimit": 10000
     },
     "inputWidgets": {},
     "nuid": "51482473-9996-487b-851f-9b2da7f5d8cc",
     "showTitle": false,
     "title": ""
    }
   },
   "outputs": [],
   "source": [
    "medals=pd.read_csv('dbfs:/FileStore/Medals.csv')"
   ]
  },
  {
   "cell_type": "code",
   "execution_count": 0,
   "metadata": {
    "application/vnd.databricks.v1+cell": {
     "cellMetadata": {
      "byteLimit": 2048000,
      "rowLimit": 10000
     },
     "inputWidgets": {},
     "nuid": "36140de8-0cc2-49e2-a920-a7f4a1ca8f9e",
     "showTitle": false,
     "title": ""
    }
   },
   "outputs": [
    {
     "output_type": "display_data",
     "data": {
      "text/html": [
       "<div>\n",
       "<style scoped>\n",
       "    .dataframe tbody tr th:only-of-type {\n",
       "        vertical-align: middle;\n",
       "    }\n",
       "\n",
       "    .dataframe tbody tr th {\n",
       "        vertical-align: top;\n",
       "    }\n",
       "\n",
       "    .dataframe thead th {\n",
       "        text-align: right;\n",
       "    }\n",
       "</style>\n",
       "<table border=\"1\" class=\"dataframe\">\n",
       "  <thead>\n",
       "    <tr style=\"text-align: right;\">\n",
       "      <th></th>\n",
       "      <th>Rank</th>\n",
       "      <th>Team/NOC</th>\n",
       "      <th>Gold</th>\n",
       "      <th>Silver</th>\n",
       "      <th>Bronze</th>\n",
       "      <th>Total</th>\n",
       "      <th>Rank by Total</th>\n",
       "    </tr>\n",
       "  </thead>\n",
       "  <tbody>\n",
       "    <tr>\n",
       "      <th>0</th>\n",
       "      <td>1</td>\n",
       "      <td>United States of America</td>\n",
       "      <td>39</td>\n",
       "      <td>41</td>\n",
       "      <td>33</td>\n",
       "      <td>113</td>\n",
       "      <td>1</td>\n",
       "    </tr>\n",
       "    <tr>\n",
       "      <th>1</th>\n",
       "      <td>2</td>\n",
       "      <td>People's Republic of China</td>\n",
       "      <td>38</td>\n",
       "      <td>32</td>\n",
       "      <td>18</td>\n",
       "      <td>88</td>\n",
       "      <td>2</td>\n",
       "    </tr>\n",
       "    <tr>\n",
       "      <th>2</th>\n",
       "      <td>3</td>\n",
       "      <td>Japan</td>\n",
       "      <td>27</td>\n",
       "      <td>14</td>\n",
       "      <td>17</td>\n",
       "      <td>58</td>\n",
       "      <td>5</td>\n",
       "    </tr>\n",
       "    <tr>\n",
       "      <th>3</th>\n",
       "      <td>4</td>\n",
       "      <td>Great Britain</td>\n",
       "      <td>22</td>\n",
       "      <td>21</td>\n",
       "      <td>22</td>\n",
       "      <td>65</td>\n",
       "      <td>4</td>\n",
       "    </tr>\n",
       "    <tr>\n",
       "      <th>4</th>\n",
       "      <td>5</td>\n",
       "      <td>ROC</td>\n",
       "      <td>20</td>\n",
       "      <td>28</td>\n",
       "      <td>23</td>\n",
       "      <td>71</td>\n",
       "      <td>3</td>\n",
       "    </tr>\n",
       "    <tr>\n",
       "      <th>5</th>\n",
       "      <td>6</td>\n",
       "      <td>Australia</td>\n",
       "      <td>17</td>\n",
       "      <td>7</td>\n",
       "      <td>22</td>\n",
       "      <td>46</td>\n",
       "      <td>6</td>\n",
       "    </tr>\n",
       "    <tr>\n",
       "      <th>6</th>\n",
       "      <td>7</td>\n",
       "      <td>Netherlands</td>\n",
       "      <td>10</td>\n",
       "      <td>12</td>\n",
       "      <td>14</td>\n",
       "      <td>36</td>\n",
       "      <td>9</td>\n",
       "    </tr>\n",
       "    <tr>\n",
       "      <th>7</th>\n",
       "      <td>8</td>\n",
       "      <td>France</td>\n",
       "      <td>10</td>\n",
       "      <td>12</td>\n",
       "      <td>11</td>\n",
       "      <td>33</td>\n",
       "      <td>10</td>\n",
       "    </tr>\n",
       "    <tr>\n",
       "      <th>8</th>\n",
       "      <td>9</td>\n",
       "      <td>Germany</td>\n",
       "      <td>10</td>\n",
       "      <td>11</td>\n",
       "      <td>16</td>\n",
       "      <td>37</td>\n",
       "      <td>8</td>\n",
       "    </tr>\n",
       "    <tr>\n",
       "      <th>9</th>\n",
       "      <td>10</td>\n",
       "      <td>Italy</td>\n",
       "      <td>10</td>\n",
       "      <td>10</td>\n",
       "      <td>20</td>\n",
       "      <td>40</td>\n",
       "      <td>7</td>\n",
       "    </tr>\n",
       "  </tbody>\n",
       "</table>\n",
       "</div>"
      ]
     },
     "metadata": {
      "application/vnd.databricks.v1+output": {
       "addedWidgets": {},
       "arguments": {},
       "data": "<div>\n<style scoped>\n    .dataframe tbody tr th:only-of-type {\n        vertical-align: middle;\n    }\n\n    .dataframe tbody tr th {\n        vertical-align: top;\n    }\n\n    .dataframe thead th {\n        text-align: right;\n    }\n</style>\n<table border=\"1\" class=\"dataframe\">\n  <thead>\n    <tr style=\"text-align: right;\">\n      <th></th>\n      <th>Rank</th>\n      <th>Team/NOC</th>\n      <th>Gold</th>\n      <th>Silver</th>\n      <th>Bronze</th>\n      <th>Total</th>\n      <th>Rank by Total</th>\n    </tr>\n  </thead>\n  <tbody>\n    <tr>\n      <th>0</th>\n      <td>1</td>\n      <td>United States of America</td>\n      <td>39</td>\n      <td>41</td>\n      <td>33</td>\n      <td>113</td>\n      <td>1</td>\n    </tr>\n    <tr>\n      <th>1</th>\n      <td>2</td>\n      <td>People's Republic of China</td>\n      <td>38</td>\n      <td>32</td>\n      <td>18</td>\n      <td>88</td>\n      <td>2</td>\n    </tr>\n    <tr>\n      <th>2</th>\n      <td>3</td>\n      <td>Japan</td>\n      <td>27</td>\n      <td>14</td>\n      <td>17</td>\n      <td>58</td>\n      <td>5</td>\n    </tr>\n    <tr>\n      <th>3</th>\n      <td>4</td>\n      <td>Great Britain</td>\n      <td>22</td>\n      <td>21</td>\n      <td>22</td>\n      <td>65</td>\n      <td>4</td>\n    </tr>\n    <tr>\n      <th>4</th>\n      <td>5</td>\n      <td>ROC</td>\n      <td>20</td>\n      <td>28</td>\n      <td>23</td>\n      <td>71</td>\n      <td>3</td>\n    </tr>\n    <tr>\n      <th>5</th>\n      <td>6</td>\n      <td>Australia</td>\n      <td>17</td>\n      <td>7</td>\n      <td>22</td>\n      <td>46</td>\n      <td>6</td>\n    </tr>\n    <tr>\n      <th>6</th>\n      <td>7</td>\n      <td>Netherlands</td>\n      <td>10</td>\n      <td>12</td>\n      <td>14</td>\n      <td>36</td>\n      <td>9</td>\n    </tr>\n    <tr>\n      <th>7</th>\n      <td>8</td>\n      <td>France</td>\n      <td>10</td>\n      <td>12</td>\n      <td>11</td>\n      <td>33</td>\n      <td>10</td>\n    </tr>\n    <tr>\n      <th>8</th>\n      <td>9</td>\n      <td>Germany</td>\n      <td>10</td>\n      <td>11</td>\n      <td>16</td>\n      <td>37</td>\n      <td>8</td>\n    </tr>\n    <tr>\n      <th>9</th>\n      <td>10</td>\n      <td>Italy</td>\n      <td>10</td>\n      <td>10</td>\n      <td>20</td>\n      <td>40</td>\n      <td>7</td>\n    </tr>\n  </tbody>\n</table>\n</div>",
       "datasetInfos": [],
       "metadata": {},
       "removedWidgets": [],
       "textData": null,
       "type": "htmlSandbox"
      }
     },
     "output_type": "display_data"
    }
   ],
   "source": [
    "medals.head(10)"
   ]
  },
  {
   "cell_type": "code",
   "execution_count": 0,
   "metadata": {
    "application/vnd.databricks.v1+cell": {
     "cellMetadata": {
      "byteLimit": 2048000,
      "rowLimit": 10000
     },
     "inputWidgets": {},
     "nuid": "e8b9cd86-9aa3-4c32-8e48-1e120355da24",
     "showTitle": false,
     "title": ""
    }
   },
   "outputs": [],
   "source": [
    "entriesGender=pd.read_csv('dbfs:/FileStore/EntriesGender.csv')"
   ]
  },
  {
   "cell_type": "code",
   "execution_count": 0,
   "metadata": {
    "application/vnd.databricks.v1+cell": {
     "cellMetadata": {
      "byteLimit": 2048000,
      "rowLimit": 10000
     },
     "inputWidgets": {},
     "nuid": "d8c8d673-a3a2-442f-92b7-33a6dc4f165c",
     "showTitle": false,
     "title": ""
    }
   },
   "outputs": [
    {
     "output_type": "display_data",
     "data": {
      "text/html": [
       "<div>\n",
       "<style scoped>\n",
       "    .dataframe tbody tr th:only-of-type {\n",
       "        vertical-align: middle;\n",
       "    }\n",
       "\n",
       "    .dataframe tbody tr th {\n",
       "        vertical-align: top;\n",
       "    }\n",
       "\n",
       "    .dataframe thead th {\n",
       "        text-align: right;\n",
       "    }\n",
       "</style>\n",
       "<table border=\"1\" class=\"dataframe\">\n",
       "  <thead>\n",
       "    <tr style=\"text-align: right;\">\n",
       "      <th></th>\n",
       "      <th>Discipline</th>\n",
       "      <th>Female</th>\n",
       "      <th>Male</th>\n",
       "      <th>Total</th>\n",
       "    </tr>\n",
       "  </thead>\n",
       "  <tbody>\n",
       "    <tr>\n",
       "      <th>0</th>\n",
       "      <td>3x3 Basketball</td>\n",
       "      <td>32</td>\n",
       "      <td>32</td>\n",
       "      <td>64</td>\n",
       "    </tr>\n",
       "    <tr>\n",
       "      <th>1</th>\n",
       "      <td>Archery</td>\n",
       "      <td>64</td>\n",
       "      <td>64</td>\n",
       "      <td>128</td>\n",
       "    </tr>\n",
       "    <tr>\n",
       "      <th>2</th>\n",
       "      <td>Artistic Gymnastics</td>\n",
       "      <td>98</td>\n",
       "      <td>98</td>\n",
       "      <td>196</td>\n",
       "    </tr>\n",
       "    <tr>\n",
       "      <th>3</th>\n",
       "      <td>Artistic Swimming</td>\n",
       "      <td>105</td>\n",
       "      <td>0</td>\n",
       "      <td>105</td>\n",
       "    </tr>\n",
       "    <tr>\n",
       "      <th>4</th>\n",
       "      <td>Athletics</td>\n",
       "      <td>969</td>\n",
       "      <td>1072</td>\n",
       "      <td>2041</td>\n",
       "    </tr>\n",
       "    <tr>\n",
       "      <th>5</th>\n",
       "      <td>Badminton</td>\n",
       "      <td>86</td>\n",
       "      <td>87</td>\n",
       "      <td>173</td>\n",
       "    </tr>\n",
       "    <tr>\n",
       "      <th>6</th>\n",
       "      <td>Baseball/Softball</td>\n",
       "      <td>90</td>\n",
       "      <td>144</td>\n",
       "      <td>234</td>\n",
       "    </tr>\n",
       "    <tr>\n",
       "      <th>7</th>\n",
       "      <td>Basketball</td>\n",
       "      <td>144</td>\n",
       "      <td>144</td>\n",
       "      <td>288</td>\n",
       "    </tr>\n",
       "    <tr>\n",
       "      <th>8</th>\n",
       "      <td>Beach Volleyball</td>\n",
       "      <td>48</td>\n",
       "      <td>48</td>\n",
       "      <td>96</td>\n",
       "    </tr>\n",
       "    <tr>\n",
       "      <th>9</th>\n",
       "      <td>Boxing</td>\n",
       "      <td>102</td>\n",
       "      <td>187</td>\n",
       "      <td>289</td>\n",
       "    </tr>\n",
       "  </tbody>\n",
       "</table>\n",
       "</div>"
      ]
     },
     "metadata": {
      "application/vnd.databricks.v1+output": {
       "addedWidgets": {},
       "arguments": {},
       "data": "<div>\n<style scoped>\n    .dataframe tbody tr th:only-of-type {\n        vertical-align: middle;\n    }\n\n    .dataframe tbody tr th {\n        vertical-align: top;\n    }\n\n    .dataframe thead th {\n        text-align: right;\n    }\n</style>\n<table border=\"1\" class=\"dataframe\">\n  <thead>\n    <tr style=\"text-align: right;\">\n      <th></th>\n      <th>Discipline</th>\n      <th>Female</th>\n      <th>Male</th>\n      <th>Total</th>\n    </tr>\n  </thead>\n  <tbody>\n    <tr>\n      <th>0</th>\n      <td>3x3 Basketball</td>\n      <td>32</td>\n      <td>32</td>\n      <td>64</td>\n    </tr>\n    <tr>\n      <th>1</th>\n      <td>Archery</td>\n      <td>64</td>\n      <td>64</td>\n      <td>128</td>\n    </tr>\n    <tr>\n      <th>2</th>\n      <td>Artistic Gymnastics</td>\n      <td>98</td>\n      <td>98</td>\n      <td>196</td>\n    </tr>\n    <tr>\n      <th>3</th>\n      <td>Artistic Swimming</td>\n      <td>105</td>\n      <td>0</td>\n      <td>105</td>\n    </tr>\n    <tr>\n      <th>4</th>\n      <td>Athletics</td>\n      <td>969</td>\n      <td>1072</td>\n      <td>2041</td>\n    </tr>\n    <tr>\n      <th>5</th>\n      <td>Badminton</td>\n      <td>86</td>\n      <td>87</td>\n      <td>173</td>\n    </tr>\n    <tr>\n      <th>6</th>\n      <td>Baseball/Softball</td>\n      <td>90</td>\n      <td>144</td>\n      <td>234</td>\n    </tr>\n    <tr>\n      <th>7</th>\n      <td>Basketball</td>\n      <td>144</td>\n      <td>144</td>\n      <td>288</td>\n    </tr>\n    <tr>\n      <th>8</th>\n      <td>Beach Volleyball</td>\n      <td>48</td>\n      <td>48</td>\n      <td>96</td>\n    </tr>\n    <tr>\n      <th>9</th>\n      <td>Boxing</td>\n      <td>102</td>\n      <td>187</td>\n      <td>289</td>\n    </tr>\n  </tbody>\n</table>\n</div>",
       "datasetInfos": [],
       "metadata": {},
       "removedWidgets": [],
       "textData": null,
       "type": "htmlSandbox"
      }
     },
     "output_type": "display_data"
    }
   ],
   "source": [
    "entriesGender.head(10)"
   ]
  },
  {
   "cell_type": "code",
   "execution_count": 0,
   "metadata": {
    "application/vnd.databricks.v1+cell": {
     "cellMetadata": {
      "byteLimit": 2048000,
      "rowLimit": 10000
     },
     "inputWidgets": {},
     "nuid": "261d3858-8c93-42ed-978f-a7c4bf2cc0c6",
     "showTitle": false,
     "title": ""
    }
   },
   "outputs": [
    {
     "output_type": "stream",
     "name": "stdout",
     "output_type": "stream",
     "text": [
      "Out[27]: (46, 4)"
     ]
    }
   ],
   "source": [
    "entriesGender.shape"
   ]
  },
  {
   "cell_type": "code",
   "execution_count": 0,
   "metadata": {
    "application/vnd.databricks.v1+cell": {
     "cellMetadata": {},
     "inputWidgets": {},
     "nuid": "29fc333c-7e3e-4c8c-a799-c074a85efda8",
     "showTitle": false,
     "title": ""
    }
   },
   "outputs": [],
   "source": []
  }
 ],
 "metadata": {
  "application/vnd.databricks.v1+notebook": {
   "dashboards": [
    {
     "elements": [
      {
       "dashboardResultIndex": 0,
       "elementNUID": "6e911c93-9bf9-4807-8c5e-d3d54662fb16",
       "elementType": "command",
       "guid": "22ac493d-f386-4bd3-88ea-a16eca8cceb9",
       "options": null,
       "position": {
        "height": 6,
        "width": 12,
        "x": 0,
        "y": 0,
        "z": null
       },
       "resultIndex": null
      }
     ],
     "globalVars": {},
     "guid": "",
     "layoutOption": {
      "grid": true,
      "stack": true
     },
     "nuid": "8f99f211-f83d-459d-a6a8-8e3dcddadcab",
     "origId": 0,
     "title": "Untitled",
     "version": "DashboardViewV1",
     "width": 1024
    }
   ],
   "language": "python",
   "notebookMetadata": {
    "pythonIndentUnit": 4
   },
   "notebookName": "olympicnote3",
   "widgets": {}
  }
 },
 "nbformat": 4,
 "nbformat_minor": 0
}
